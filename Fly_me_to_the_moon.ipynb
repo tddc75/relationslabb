{
 "cells": [
  {
   "cell_type": "markdown",
   "metadata": {},
   "source": [
    "# Inledning"
   ]
  },
  {
   "cell_type": "markdown",
   "metadata": {},
   "source": [
    "Denna laboration i diskret matematik är tänkt att ge en inblick i hur\n",
    "programmering kan användas i kombination med matematiska begrepp för\n",
    "att analysera och lösa problem. Utgångspunkten är det matematiska\n",
    "begreppet relation vilket definieras som en mängd av par. \n",
    "\n",
    "Laborationen använder programspråket Python. Python är ett av de mest\n",
    "använda programmeringsspråken och det har mycket funktionalitet, men\n",
    "är samtidigt ganska lätt att komma igång och använda. Det som\n",
    "framförallt gör att det är lämpligt att använda i denna laboration är\n",
    "att det finns bra stöd för att hantera mängder och tupler på ett sätt\n",
    "som ligger mycket nära det matematiska språket.\n",
    "\n",
    "Vi kommer att använda oss av ett riktigt dataset som består av alla\n",
    "kommersiella flygrutter hämtat från siten \\url{openflights.org}. Hela\n",
    "databasen innehåller över 7000 flygplatser och över 67000 rutter. Figuren nedan visar dessa på en världskarta."
   ]
  },
  {
   "cell_type": "markdown",
   "metadata": {},
   "source": [
    "## Grunder i python: utskrift, variabler, if-satser och loopar"
   ]
  },
  {
   "cell_type": "markdown",
   "metadata": {},
   "source": [
    "Det första vi ska göra är att skriva ett \"Hello world\" program vilket är ett bra sätt att börja med ett nytt programmeringsspråk. Detta görs genom att skriva _print(\"Hello world!\")_. Prova själv att skriva in detta i rutan nedan, och tryck sedan på _Run_ i menyn ovanför (eller tryck Ctrl-Enter)."
   ]
  },
  {
   "cell_type": "code",
   "execution_count": null,
   "metadata": {},
   "outputs": [],
   "source": []
  },
  {
   "cell_type": "markdown",
   "metadata": {},
   "source": [
    "Bra! Det var ju inte så svårt eller hur?\n",
    "\n",
    "I Pyhon, precis som i Java kan vi skapa variabler och tilldela dem värden. Vi behöver inte från början tala om vilken sorts variabel (typ) det är. Kör koden nedan och ändra sedan så att den skriver ut summan av variablerna _a_ och _b_."
   ]
  },
  {
   "cell_type": "code",
   "execution_count": null,
   "metadata": {},
   "outputs": [],
   "source": [
    "a = 4\n",
    "b = 1\n",
    "print(a)\n",
    "print(b)"
   ]
  },
  {
   "cell_type": "markdown",
   "metadata": {},
   "source": [
    "Så, nu kan vi ta tag i if-satser. Nedan visas en enkel if-sats. Notera att värdet av a och b ovan sparas till nästa cell, och om du ändrar ovan och kör om den så blir det annorlunda nästa gång du kör. "
   ]
  },
  {
   "cell_type": "code",
   "execution_count": null,
   "metadata": {},
   "outputs": [],
   "source": [
    "if a > b:\n",
    "    print(\"a är större än b\")"
   ]
  },
  {
   "cell_type": "markdown",
   "metadata": {},
   "source": [
    "Som du kan se så använder inte Python {}-parenteser eller semikolon. Istället är det viktigt att använda Tab för att markera vad som är del av if-satsen. Öva på detta genom att ändra koden nedan så att den fungerar."
   ]
  },
  {
   "cell_type": "code",
   "execution_count": null,
   "metadata": {},
   "outputs": [],
   "source": [
    "if b < a:\n",
    "print(\"b är mindre än a\")"
   ]
  },
  {
   "cell_type": "markdown",
   "metadata": {},
   "source": [
    "Till sist ska vi göra en enkel loop. Vi väntar med for-loopar och börjar med en while-loop. Koden nedan multiplicerar _c_ med 2 tills resultatet är större än 100 och skriver ut resultatet i varje steg."
   ]
  },
  {
   "cell_type": "code",
   "execution_count": null,
   "metadata": {},
   "outputs": [],
   "source": [
    "c = 1\n",
    "while c < 100:\n",
    "    c = c*2\n",
    "    print(c)"
   ]
  },
  {
   "cell_type": "markdown",
   "metadata": {},
   "source": [
    "Testa nu att skriva din egen while-loop som skriver ut alla tal under 20 som är jämnt delbara med 3."
   ]
  },
  {
   "cell_type": "code",
   "execution_count": null,
   "metadata": {},
   "outputs": [],
   "source": []
  },
  {
   "cell_type": "markdown",
   "metadata": {},
   "source": [
    "## Mängder, tupler och relationer i Python"
   ]
  },
  {
   "cell_type": "markdown",
   "metadata": {},
   "source": [
    "Python har ett bra stöd för att hantera mängder. Det gör att vi enkelt kan "
   ]
  },
  {
   "cell_type": "code",
   "execution_count": null,
   "metadata": {},
   "outputs": [],
   "source": [
    "A =  {0,1,2}\n",
    "B = {'x','y','z'}\n",
    "C = A | B\n",
    "print(C)"
   ]
  },
  {
   "cell_type": "markdown",
   "metadata": {},
   "source": [
    "# Laboration"
   ]
  },
  {
   "cell_type": "code",
   "execution_count": null,
   "metadata": {},
   "outputs": [],
   "source": [
    "import csv"
   ]
  },
  {
   "cell_type": "code",
   "execution_count": null,
   "metadata": {},
   "outputs": [],
   "source": [
    "NorthernEurope = {'Sweden', 'Norway', 'Finland', 'Iceland', 'Denmark'}\n",
    "\n",
    "def get_airports():\n",
    "    \"\"\"Helper function to read all the airports from a file, filters out all non-Nordic airports\"\"\"\n",
    "    with open('Dokument/Undervisning/TDDC75/relationslabb/data/airports.dat', 'r') as f:\n",
    "        reader = csv.reader(f, delimiter=',')\n",
    "        return  {line[4] for line in reader if (line[3] in NorthernEurope and len(line[4]) == 3)}\n",
    "\n",
    "def get_routes(A):\n",
    "    \"\"\"\n",
    "    Helper function to read all the routes from a file, keeps only routes where the\n",
    "    airports belong to the set A\n",
    "    \"\"\"\n",
    "    with open('Dokument/Undervisning/TDDC75/relationslabb/data/routes.dat', 'r') as f:\n",
    "        reader = csv.reader(f, delimiter=',')\n",
    "        return {(line[2], line[4]) for line in reader if line[2] in A and line[4] in A}\n",
    "\n",
    "def compose(R1,R2):\n",
    "    \"\"\"Composes two relations as R2 o R1\"\"\"\n",
    "    return {(a,d) for (a,b) in R1 for (c,d) in R2 if b == c}\n"
   ]
  },
  {
   "cell_type": "code",
   "execution_count": null,
   "metadata": {},
   "outputs": [],
   "source": [
    "A = get_airports()\n",
    "R = get_routes(A)"
   ]
  },
  {
   "cell_type": "code",
   "execution_count": null,
   "metadata": {},
   "outputs": [],
   "source": [
    "print(A)"
   ]
  },
  {
   "cell_type": "code",
   "execution_count": null,
   "metadata": {},
   "outputs": [],
   "source": [
    "#Används i uppgift 3\n",
    "def is_symmetrical(R):\n",
    "    \"\"\"Checks if the relation R is symmetrical\"\"\"\n",
    "    for (i,j) in R:\n",
    "        if (j,i) not in R:\n",
    "            return False;\n",
    "    return True;"
   ]
  },
  {
   "cell_type": "markdown",
   "metadata": {},
   "source": [
    "Antag att vi har en mängd $A = \\{0, 1, 2\\}$ och en relation $R \\subseteq A \\times A$. Om vi nu ska undersökta huruvida elementet $(0,1)$ är med i $R$ dvs besvara frågan "
   ]
  },
  {
   "cell_type": "code",
   "execution_count": null,
   "metadata": {},
   "outputs": [],
   "source": [
    "A = {0,1,2}\n",
    "R = {(0,1),(2,1)}\n",
    "Rinv = set()\n",
    "for (i,j) in R:\n",
    "    Rinv.add((j,i))\n",
    "print(Rinv)"
   ]
  },
  {
   "cell_type": "code",
   "execution_count": null,
   "metadata": {},
   "outputs": [],
   "source": [
    "%%latex\n",
    "$R(a,b) \\subset A \\times B$"
   ]
  },
  {
   "cell_type": "code",
   "execution_count": null,
   "metadata": {},
   "outputs": [],
   "source": [
    "print (\"*********************************************************************\")\n",
    "print (\"3. Om man kan flyga från flygplats A till flygplats B, går det då att flyga B till A?\");\n",
    "print (\"För att besvara frågan undersöker  om relationen routes är symmetrisk\");\n",
    "print (\"Svar: \" + str(is_symmetrical(R)));"
   ]
  },
  {
   "cell_type": "code",
   "execution_count": null,
   "metadata": {},
   "outputs": [],
   "source": []
  }
 ],
 "metadata": {
  "kernelspec": {
   "display_name": "Python 3",
   "language": "python",
   "name": "python3"
  },
  "language_info": {
   "codemirror_mode": {
    "name": "ipython",
    "version": 3
   },
   "file_extension": ".py",
   "mimetype": "text/x-python",
   "name": "python",
   "nbconvert_exporter": "python",
   "pygments_lexer": "ipython3",
   "version": "3.6.8"
  }
 },
 "nbformat": 4,
 "nbformat_minor": 2
}
