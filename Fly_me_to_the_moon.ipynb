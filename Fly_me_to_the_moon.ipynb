{
 "cells": [
  {
   "cell_type": "markdown",
   "metadata": {},
   "source": [
    "<center>\n",
    "<h1>Fly me to the moon <br/>\n",
    "</h1>\n",
    "Labb om relationer i TDDC75 Diskreta strukturer<br/>\n",
    "Mikael Asplund\n",
    "</center>"
   ]
  },
  {
   "cell_type": "markdown",
   "metadata": {},
   "source": [
    "## Inledning"
   ]
  },
  {
   "cell_type": "markdown",
   "metadata": {},
   "source": [
    "Denna laboration i diskret matematik är tänkt att ge en inblick i hur\n",
    "programmering kan användas i kombination med matematiska begrepp för\n",
    "att analysera och lösa problem. Utgångspunkten är det matematiska\n",
    "begreppet relation vilket definieras som en mängd av par. \n",
    "\n",
    "Laborationen är uppbyggd i två delar, en <a href=\"https://www.ida.liu.se/~TDDC75/laborationer/TDDC75_relationslabb.pdf\">teoretisk föreberedelse</a> som du ska ha gjort innan du påbörjar denna del, och en praktisk labb där verktyget Jupyter Notebooks\n",
    "används (denna del) för att med hjälp av programspråket Python utforska en verklig datamängd.\n",
    "\n",
    "I denna notebook kombineras text med ett antal kodceller. Cellerna är editerbara och den Pythonkod som skrivs där kan köras genom att trycka på \"Run\" i menyn ovan. \n",
    "\n",
    "Detta interaktiva dokument består av två delar. Den första delen \"Grunder i Python\" som inte borde ta mer än en timme att göra är tänkt att ge tillräckligt med grunder i Python för att göra den andra delen. Det kanske låter svårt att lära sig ett programmeringsspråk på en timme, men eftersom ni redan kan en del Java och vi bara ska använda en begränsad del av Python så kommer det att gå utmärkt. Ni kommer under era studier att bli bra på att snabbt lära er ny syntax för olika språk eftersom grundtankarna för det mesta är desamma.\n",
    "\n",
    "Den andra delen \"Laborationsuppifter\" går ut på att besvara de frågor som ni redan har formulerat matematiska uttryck för i förberedelsen. I denna del får ni jobba med den datamängd av flygplatser och flygrutter som beskrevs där, och tanken är att ni ska översätta era matematiska formuleringar till pythonkod.\n",
    "\n",
    "Lycka till!"
   ]
  },
  {
   "cell_type": "markdown",
   "metadata": {},
   "source": [
    "## Grunder i Python"
   ]
  },
  {
   "cell_type": "markdown",
   "metadata": {},
   "source": [
    "### Utskrift, variabler, if-satser och loopar"
   ]
  },
  {
   "cell_type": "markdown",
   "metadata": {},
   "source": [
    "Det första vi ska göra är att skriva ett \"Hello world\" program vilket är ett bra sätt att börja med ett nytt programmeringsspråk. Detta görs genom att skriva _print(\"Hello world!\")_. Prova själv att skriva in detta i rutan nedan, och tryck sedan på _Run_ i menyn ovanför (eller tryck Ctrl-Enter)."
   ]
  },
  {
   "cell_type": "code",
   "execution_count": null,
   "metadata": {},
   "outputs": [],
   "source": []
  },
  {
   "cell_type": "markdown",
   "metadata": {},
   "source": [
    "Bra! Det var ju inte så svårt eller hur?\n",
    "\n",
    "I Python, precis som i Java kan vi skapa variabler och tilldela dem värden. Vi behöver inte från början tala om vilken sorts variabel (typ) det är. Kör koden nedan och ändra sedan så att den skriver ut summan av variablerna a och b."
   ]
  },
  {
   "cell_type": "code",
   "execution_count": null,
   "metadata": {},
   "outputs": [],
   "source": [
    "a = 4\n",
    "b = 1\n",
    "print(a)\n",
    "print(b)"
   ]
  },
  {
   "cell_type": "markdown",
   "metadata": {},
   "source": [
    "Så, nu kan vi ta tag i if-satser. Nedan visas en enkel if-sats. Notera att värdet av a och b ovan sparas till nästa cell, och om du ändrar värdena ovan och kör om den så blir det annorlunda nästa gång du kör. Prova."
   ]
  },
  {
   "cell_type": "code",
   "execution_count": null,
   "metadata": {},
   "outputs": [],
   "source": [
    "if a > b:\n",
    "    print(\"a är större än b\")"
   ]
  },
  {
   "cell_type": "markdown",
   "metadata": {},
   "source": [
    "Som ni kan se så använder inte Python {}-parenteser eller semikolon som Java gör. Istället är det viktigt att indentera koden (bäst är att använda 4 mellanslag). Öva på detta genom att ändra koden nedan så att den fungerar."
   ]
  },
  {
   "cell_type": "code",
   "execution_count": null,
   "metadata": {},
   "outputs": [],
   "source": [
    "if b < a:\n",
    "print(\"b är mindre än a\")"
   ]
  },
  {
   "cell_type": "markdown",
   "metadata": {},
   "source": [
    "Till sist ska vi göra en enkel loop. Vi väntar med for-loopar och börjar med en while-loop. Koden nedan multiplicerar c med 2 tills resultatet är större än 100 och skriver ut resultatet i varje steg."
   ]
  },
  {
   "cell_type": "code",
   "execution_count": null,
   "metadata": {},
   "outputs": [],
   "source": [
    "c = 1\n",
    "while c < 100:\n",
    "    c = c*2 #Precis som i Java betyder = tilldelning och inte jämförelse\n",
    "    print(c)"
   ]
  },
  {
   "cell_type": "markdown",
   "metadata": {},
   "source": [
    "Testa nu att skriva er egen while-loop som skriver ut alla tal under 20 som är jämnt delbara med 3."
   ]
  },
  {
   "cell_type": "code",
   "execution_count": null,
   "metadata": {},
   "outputs": [],
   "source": []
  },
  {
   "cell_type": "markdown",
   "metadata": {},
   "source": [
    "### Mängder"
   ]
  },
  {
   "cell_type": "markdown",
   "metadata": {},
   "source": [
    "Python har ett bra stöd för att hantera mängder. Så om vi vill skapa en mängd $A = \\{0,1,2\\}$ så skriver vi helt enkelt"
   ]
  },
  {
   "cell_type": "code",
   "execution_count": null,
   "metadata": {},
   "outputs": [],
   "source": [
    "A = {0,1,2}"
   ]
  },
  {
   "cell_type": "markdown",
   "metadata": {},
   "source": [
    "Vi kan utföra lite operationer på denna mängd, observera också hur man skriver kommentarer med # istället för // som används i Java. Kör koden nedan och prova gärna att ändra lite i den."
   ]
  },
  {
   "cell_type": "code",
   "execution_count": null,
   "metadata": {},
   "outputs": [],
   "source": [
    "#Kolla om 1 är med i mängden A\n",
    "if 1 in A:\n",
    "    print(\"1 är med i A\")\n",
    "else:\n",
    "    print(\"1 är inte med i A\")"
   ]
  },
  {
   "cell_type": "code",
   "execution_count": null,
   "metadata": {},
   "outputs": [],
   "source": [
    "#Lägg till ett element i A\n",
    "A.add(4)\n",
    "\n",
    "#Skriv ut innehållet i A\n",
    "print(A)"
   ]
  },
  {
   "cell_type": "markdown",
   "metadata": {},
   "source": [
    "För att lägga till element som är bokstäver eller ord i en mängd så måste man använda \" eller ' runt ordet eller bokstaven, för annars tror Python att det är en variabel. Prova att köra båda cellerna nedan och se skillnaden."
   ]
  },
  {
   "cell_type": "code",
   "execution_count": null,
   "metadata": {},
   "outputs": [],
   "source": [
    "B = {x,y,z}\n",
    "print(B)"
   ]
  },
  {
   "cell_type": "code",
   "execution_count": null,
   "metadata": {},
   "outputs": [],
   "source": [
    "B = {'x','y','z'}\n",
    "print(B)"
   ]
  },
  {
   "cell_type": "markdown",
   "metadata": {},
   "source": [
    "Nedan följer ytterligare lite användning av mängder."
   ]
  },
  {
   "cell_type": "code",
   "execution_count": null,
   "metadata": {},
   "outputs": [],
   "source": [
    "#Skriv ut unionen av A och B\n",
    "print(A | B)"
   ]
  },
  {
   "cell_type": "code",
   "execution_count": null,
   "metadata": {},
   "outputs": [],
   "source": [
    "#Skriv ut antalet element i A\n",
    "print(len(A))"
   ]
  },
  {
   "cell_type": "code",
   "execution_count": null,
   "metadata": {},
   "outputs": [],
   "source": [
    "#Skriv ut snittet mellan A och B\n",
    "print(A & B)"
   ]
  },
  {
   "cell_type": "markdown",
   "metadata": {},
   "source": [
    "Observera hur tomma mängden skrivs i Pyhon med _set()_. Det går inte att använda {} för att representera tomma mängden för det betyder något annat.\n",
    "\n",
    "Snart kommer en övning, men först ska vi visa hur man kan loopa genom alla element i en mängd. Koden nedan loopar genom alla element i unionen av A och B, (alltså $A \\cup B$) och skriver ut dem."
   ]
  },
  {
   "cell_type": "code",
   "execution_count": null,
   "metadata": {},
   "outputs": [],
   "source": [
    "for i in (A|B):\n",
    "    print(i)"
   ]
  },
  {
   "cell_type": "markdown",
   "metadata": {},
   "source": [
    "Nu är det dags att prova dina kunskaper. Skapa en mängd $C$ bestående av alla jämna tal mellan 0 och 20. Skriv ut resultatet."
   ]
  },
  {
   "cell_type": "code",
   "execution_count": null,
   "metadata": {},
   "outputs": [],
   "source": []
  },
  {
   "cell_type": "markdown",
   "metadata": {},
   "source": [
    "Skriv en for-loop som besvarar frågan huruvida alla element i mängden $D$ nedan också är element i $C$."
   ]
  },
  {
   "cell_type": "code",
   "execution_count": null,
   "metadata": {},
   "outputs": [],
   "source": [
    "D = {2,10,16,18,20}\n",
    "\n",
    "#..."
   ]
  },
  {
   "cell_type": "markdown",
   "metadata": {},
   "source": [
    "### Tupler och relationer"
   ]
  },
  {
   "cell_type": "markdown",
   "metadata": {},
   "source": [
    "En tupel i Python skrivs precis som vi är vana vid att göra på papper."
   ]
  },
  {
   "cell_type": "code",
   "execution_count": null,
   "metadata": {},
   "outputs": [],
   "source": [
    "ett_par = (0,1)\n",
    "print(ett_par)"
   ]
  },
  {
   "cell_type": "markdown",
   "metadata": {},
   "source": [
    "En relation är som bekant en mängd av par, så vi kan skapa en relation i Python och sen loopa igenom dessa och till exempel skriva ut det första elementet i varje par."
   ]
  },
  {
   "cell_type": "code",
   "execution_count": null,
   "metadata": {},
   "outputs": [],
   "source": [
    "R = {(0,1), (2,3), (2,2)}\n",
    "for (i,j) in R:\n",
    "    print(i)"
   ]
  },
  {
   "cell_type": "markdown",
   "metadata": {},
   "source": [
    "### Funktioner"
   ]
  },
  {
   "cell_type": "markdown",
   "metadata": {},
   "source": [
    "Funktioner i Python fungerar ungefär som metoder i Java. Funktionen nedan tar en mängd som input och kollar om den innehåller fler än 4 element. Koden har dock ett fel, fixa det!"
   ]
  },
  {
   "cell_type": "code",
   "execution_count": null,
   "metadata": {},
   "outputs": [],
   "source": [
    "def larger_than_four(S):\n",
    "    return(len(S) > 4\n",
    "\n",
    "print(larger_than_four(A))"
   ]
  },
  {
   "cell_type": "markdown",
   "metadata": {},
   "source": [
    "## Laborationsuppgifter"
   ]
  },
  {
   "cell_type": "markdown",
   "metadata": {},
   "source": [
    "Nu har vi kommit till den andra delen av den praktiska labben där ni får jobba med den verkliga datamängden. Ta fram de svar på de teoretiska förberedelseuppgifterna som ni gjort tidigare. Dessa ska ni nu använda i respektive uppgift nedan och översätta det matematiska uttrycket till Python-kod. "
   ]
  },
  {
   "cell_type": "markdown",
   "metadata": {},
   "source": [
    "### Datainläsning"
   ]
  },
  {
   "cell_type": "markdown",
   "metadata": {},
   "source": [
    "Innan ni kan börja svara på frågorna så behöver vi hämta in lite information från filer som följde med denna notebook. Ni behöver inte skriva någon kod, allt sköts av koden i rutan nedan. Resultatet är två variabler (precis som de ni använde i förberedelseuppgifterna).\n",
    "\n",
    "* En mängd A som innehåller alla nordiska flygplatser med en trebokstavssträng, $A = \\{'AAL', 'AAR', 'AES', \\ldots \\} $\n",
    "* En relation $R \\subseteq A \\times A$ som innehåller alla direktrutter mellan flygplatser i $A$. Till exempel gäller att $('ARN', 'CPH') \\in R$ eftersom det finns en direktrutt från Arlanda till Köpenhamn.\n",
    "\n",
    "Notera att vi här använder '-tecken runt varje flygplatsförkortning för att Python ska förstå att det inte är variabler utan strängar. Det behöver ni också göra när ni översätter era matematiska uttryck.\n",
    "\n",
    "Kör koden nedan för att läsa in datat."
   ]
  },
  {
   "cell_type": "code",
   "execution_count": null,
   "metadata": {},
   "outputs": [],
   "source": [
    "import csv\n",
    "\n",
    "NorthernEurope = {'Sweden', 'Norway', 'Finland', 'Iceland', 'Denmark'}\n",
    "\n",
    "def get_airports():\n",
    "    \"\"\"Helper function to read all the airports from a file, filters out all non-Nordic airports\"\"\"\n",
    "    with open('data/airports.dat', 'r') as f:\n",
    "        reader = csv.reader(f, delimiter=',')\n",
    "        return  {line[4] for line in reader if (line[3] in NorthernEurope and len(line[4]) == 3)}\n",
    "\n",
    "def get_routes(A):\n",
    "    \"\"\"\n",
    "    Helper function to read all the routes from a file, keeps only routes where the\n",
    "    airports belong to the set A\n",
    "    \"\"\"\n",
    "    with open('data/routes.dat', 'r') as f:\n",
    "        reader = csv.reader(f, delimiter=',')\n",
    "        return {(line[2], line[4]) for line in reader if line[2] in A and line[4] in A}\n",
    "\n",
    "if 'google.colab' in str(get_ipython()):\n",
    "    print('Running on CoLab')\n",
    "    !git clone https://gitlab.liu.se/tddc75/relationslabb\n",
    "    !mv relationslabb/data .\n",
    "    \n",
    "A = get_airports()\n",
    "R = get_routes(A)"
   ]
  },
  {
   "cell_type": "markdown",
   "metadata": {},
   "source": [
    "Vi kan provköra för att kolla att datat här blivit rätt inläst. Koden nedan ska skriva ut\n",
    "\n",
    "True  \n",
    "True"
   ]
  },
  {
   "cell_type": "code",
   "execution_count": null,
   "metadata": {},
   "outputs": [],
   "source": [
    "print('ARN' in A) #Skriver ut True om Arlanda är med i mängden\n",
    "print(('ARN', 'CPH') in R) #Skriver ut True om rutten Arlanda-Kastrup är med i mängden"
   ]
  },
  {
   "cell_type": "markdown",
   "metadata": {},
   "source": [
    "### Uppgift 1"
   ]
  },
  {
   "cell_type": "markdown",
   "metadata": {},
   "source": [
    "Nu har ni allt som behövs för att kunna börja besvara uppgifterna. Vi börjar med lite mjukstart. Besvara frågan genom att skriva Pythonkod i cellen under.\n",
    "\n",
    "Hur många flygplatser finns i datamängden?"
   ]
  },
  {
   "cell_type": "code",
   "execution_count": null,
   "metadata": {},
   "outputs": [],
   "source": []
  },
  {
   "cell_type": "markdown",
   "metadata": {},
   "source": [
    "### Uppgift 2"
   ]
  },
  {
   "cell_type": "markdown",
   "metadata": {},
   "source": [
    "Hur många direktrutter finns det?"
   ]
  },
  {
   "cell_type": "code",
   "execution_count": null,
   "metadata": {},
   "outputs": [],
   "source": []
  },
  {
   "cell_type": "markdown",
   "metadata": {},
   "source": [
    "### Uppgift 3"
   ]
  },
  {
   "cell_type": "markdown",
   "metadata": {},
   "source": [
    "Nu kommer första riktiga utmaningen. Fyll i funktionen nedan så att den kollar om en relation är symmetrisk. Kom ihåg att för en symmetrisk relation $R$ gäller att om $(i,j) \\in R$ så är också $(j,i) \\in R$."
   ]
  },
  {
   "cell_type": "code",
   "execution_count": null,
   "metadata": {},
   "outputs": [],
   "source": [
    "def is_symmetrical(R):\n",
    "    return False"
   ]
  },
  {
   "cell_type": "markdown",
   "metadata": {},
   "source": [
    "Kör koden nedan för att testa er funktion. Om det är rätt ska ni få\n",
    "\n",
    "C ok <br/>\n",
    "D ok <br/>\n",
    "E ok <br/>\n",
    "F ok <br/>\n",
    "\n",
    "som utskrift."
   ]
  },
  {
   "cell_type": "code",
   "execution_count": null,
   "metadata": {},
   "outputs": [],
   "source": [
    "try:\n",
    "    C = {(0,1),(1,0),(1,2),(2,1)} #Exempel på symmetrisk relation\n",
    "    assert is_symmetrical(C)\n",
    "    print(\"C ok\")\n",
    "    D = set() #Tomma mängden är symmetrisk\n",
    "    assert is_symmetrical(D) \n",
    "    print(\"D ok\")\n",
    "    E = {(0,1),(1,2)} #Denna mängd är inte symmetrisk\n",
    "    assert not is_symmetrical(E)\n",
    "    print(\"E ok\")\n",
    "    F = {(0,1),(1,0),(2,0)}\n",
    "    assert not is_symmetrical(F)\n",
    "    print(\"F ok\")\n",
    "except:\n",
    "    print(\"Oj, något blev fel!\")"
   ]
  },
  {
   "cell_type": "markdown",
   "metadata": {},
   "source": [
    "Blev det rätt? Bra jobbat! Ni bör kunna använda denna funktion för att besvara uppgift 3:\n",
    "\n",
    "Om man kan flyga från flygplats $i$ till flygplats $j$, går det då alltid att flyga från $j$ till $i$?"
   ]
  },
  {
   "cell_type": "code",
   "execution_count": null,
   "metadata": {},
   "outputs": [],
   "source": []
  },
  {
   "cell_type": "markdown",
   "metadata": {},
   "source": [
    "### Uppgift 4"
   ]
  },
  {
   "cell_type": "markdown",
   "metadata": {},
   "source": [
    "Finns det rutter som startar och stannar på samma flygplats?"
   ]
  },
  {
   "cell_type": "code",
   "execution_count": null,
   "metadata": {},
   "outputs": [],
   "source": []
  },
  {
   "cell_type": "markdown",
   "metadata": {},
   "source": [
    "### Uppgift 5"
   ]
  },
  {
   "cell_type": "markdown",
   "metadata": {},
   "source": [
    "I denna uppgift är det rimligt att skapa en funktion d(i) som tar en flygplats som inparameter och returnerar vilka flyplatser som man kan flyga till från flygplatsen i. Skriv den nedan."
   ]
  },
  {
   "cell_type": "code",
   "execution_count": null,
   "metadata": {},
   "outputs": [],
   "source": [
    "def d(i):\n",
    "    #Skriv er kod här"
   ]
  },
  {
   "cell_type": "markdown",
   "metadata": {},
   "source": [
    "Testa er funktion med koden nedan som bör skriva ut\n",
    "\n",
    "Rätt!"
   ]
  },
  {
   "cell_type": "code",
   "execution_count": null,
   "metadata": {},
   "outputs": [],
   "source": [
    "try:\n",
    "    assert d('VHM') == {'HMV', 'ARN'}\n",
    "    print(\"Rätt!\")\n",
    "except:\n",
    "    print(\"Oj, något blev fel!\")"
   ]
  },
  {
   "cell_type": "markdown",
   "metadata": {},
   "source": [
    "Vilka flygplatser går det att flyga direkt till från någon angiven flygplats $i$?"
   ]
  },
  {
   "cell_type": "code",
   "execution_count": null,
   "metadata": {},
   "outputs": [],
   "source": []
  },
  {
   "cell_type": "markdown",
   "metadata": {},
   "source": [
    "### Uppgift 6"
   ]
  },
  {
   "cell_type": "markdown",
   "metadata": {},
   "source": [
    "Hur många flygplatser går det inte att flyga ut ifrån?"
   ]
  },
  {
   "cell_type": "code",
   "execution_count": null,
   "metadata": {},
   "outputs": [],
   "source": []
  },
  {
   "cell_type": "markdown",
   "metadata": {},
   "source": [
    "### Uppgift 7"
   ]
  },
  {
   "cell_type": "markdown",
   "metadata": {},
   "source": [
    "Hur många flygplatser inom Norden finns det direktflyg till från Arlanda (ARN)?"
   ]
  },
  {
   "cell_type": "code",
   "execution_count": null,
   "metadata": {},
   "outputs": [],
   "source": []
  },
  {
   "cell_type": "markdown",
   "metadata": {},
   "source": [
    "### Uppgift 8"
   ]
  },
  {
   "cell_type": "markdown",
   "metadata": {},
   "source": [
    "Se, det flyter ju på bra det här. Nu tar vi oss an den svåraste utmaningen hittills. Uppgift 8 innebär ju att man måste beräkna det transitiva höljet av relationen R. Om ni inte kommer ihåg vad det är så kan ni <a href=\"https://www.ida.liu.se/~TDDC75/kursmaterial/RelationerOchHoljen.pdf\">friska upp minnet</a>. Så ni behöver skriva en funktion som beräknar det transitiva höljet. Ni får lite hjälp på traven med en funktion compose(R1,R2) som gör sammansättning av två relationer, använd den."
   ]
  },
  {
   "cell_type": "code",
   "execution_count": null,
   "metadata": {},
   "outputs": [],
   "source": [
    "#Färdig funktion för att göra sammansättning av två relationer R2 och R1 (observera ordningen)\n",
    "def compose(R1,R2):\n",
    "    \"\"\"Composes two relations as R2 o R1\"\"\"\n",
    "    return {(a,d) for (a,b) in R1 for (c,d) in R2 if b == c}\n",
    "\n",
    "def transitive_closure(R):\n",
    "    \"\"\"Returns the transitive closure of the relation R\"\"\"\n",
    "    S = set(R)\n",
    "    #Ersätt med lämplig kod\n",
    "    return S;\n"
   ]
  },
  {
   "cell_type": "markdown",
   "metadata": {},
   "source": [
    "Testa först att funktionen fungerar som tänkt genom att köra testfallet nedan som ska skriva ut:\n",
    "\n",
    "Rätt!"
   ]
  },
  {
   "cell_type": "code",
   "execution_count": null,
   "metadata": {},
   "outputs": [],
   "source": [
    "try:\n",
    "    Rt1 = {(0,1), (1,2), (2,3)}\n",
    "    Rt1plus = transitive_closure(Rt1)\n",
    "    assert(Rt1plus == {(0,1), (0,2), (0,3), (1,2), (1,3), (2,3)})\n",
    "    print(\"Rätt!\")\n",
    "except:\n",
    "    print(\"Oj, något blev fel!\")"
   ]
  },
  {
   "cell_type": "markdown",
   "metadata": {},
   "source": [
    "Kör koden nedan för att skapa transitiva höljet av R (detta kan ta upp till 30 sekunder)."
   ]
  },
  {
   "cell_type": "code",
   "execution_count": null,
   "metadata": {},
   "outputs": [],
   "source": [
    "Rplus = transitive_closure(R)"
   ]
  },
  {
   "cell_type": "markdown",
   "metadata": {},
   "source": [
    " Går det att flyga från Linköping (LPI) till Bod&oslash; (BOO) utan att lämna Norden. "
   ]
  },
  {
   "cell_type": "code",
   "execution_count": null,
   "metadata": {},
   "outputs": [],
   "source": []
  },
  {
   "cell_type": "markdown",
   "metadata": {},
   "source": [
    "### Uppgift 9"
   ]
  },
  {
   "cell_type": "markdown",
   "metadata": {},
   "source": [
    "Går det att flyga från Linköping till alla flygplatser i Norden utan att lämna Norden?"
   ]
  },
  {
   "cell_type": "code",
   "execution_count": null,
   "metadata": {},
   "outputs": [],
   "source": []
  },
  {
   "cell_type": "markdown",
   "metadata": {},
   "source": [
    "### (Extra uppgift) Uppgift 10"
   ]
  },
  {
   "cell_type": "markdown",
   "metadata": {},
   "source": [
    "Hur många hopp måste man ta för att flyga från Linköping (LPI) för att komma till Flor&oslash; (FRO) flygplats i Norge?"
   ]
  },
  {
   "cell_type": "code",
   "execution_count": null,
   "metadata": {},
   "outputs": [],
   "source": []
  },
  {
   "cell_type": "markdown",
   "metadata": {},
   "source": [
    "Så, då var det färdigt! Om ni har kommit hit så har ni jobbat på bra och förhoppningsvis lärt er något nytt. Även om huvudet snurrar så har ni klarat er första högskolepoäng (när ni har redovisat såklart), 1hp avklarad, 299 kvar till civilingenjörsexamen. Det är bara att fortsätta!"
   ]
  }
 ],
 "metadata": {
  "kernelspec": {
   "display_name": "Python 3",
   "language": "python",
   "name": "python3"
  },
  "language_info": {
   "codemirror_mode": {
    "name": "ipython",
    "version": 3
   },
   "file_extension": ".py",
   "mimetype": "text/x-python",
   "name": "python",
   "nbconvert_exporter": "python",
   "pygments_lexer": "ipython3",
   "version": "3.6.9"
  }
 },
 "nbformat": 4,
 "nbformat_minor": 2
}
